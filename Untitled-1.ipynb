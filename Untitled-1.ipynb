{
 "cells": [
  {
   "cell_type": "code",
   "execution_count": 141,
   "metadata": {},
   "outputs": [],
   "source": [
    "import os\n",
    "import pandas as pd\n",
    "import math\n",
    "from random import randrange"
   ]
  },
  {
   "cell_type": "code",
   "execution_count": 142,
   "metadata": {},
   "outputs": [],
   "source": [
    "WhataburgerData = pd.read_csv(r\"C:\\Users\\Gagef\\Desktop\\WhataburgerData.csv\")"
   ]
  },
  {
   "cell_type": "code",
   "execution_count": 143,
   "metadata": {},
   "outputs": [
    {
     "data": {
      "text/html": [
       "<div>\n",
       "<style scoped>\n",
       "    .dataframe tbody tr th:only-of-type {\n",
       "        vertical-align: middle;\n",
       "    }\n",
       "\n",
       "    .dataframe tbody tr th {\n",
       "        vertical-align: top;\n",
       "    }\n",
       "\n",
       "    .dataframe thead th {\n",
       "        text-align: right;\n",
       "    }\n",
       "</style>\n",
       "<table border=\"1\" class=\"dataframe\">\n",
       "  <thead>\n",
       "    <tr style=\"text-align: right;\">\n",
       "      <th></th>\n",
       "      <th>Store ID</th>\n",
       "      <th>Address</th>\n",
       "      <th>City</th>\n",
       "      <th>State</th>\n",
       "      <th>Zip Code</th>\n",
       "      <th>Latitude</th>\n",
       "      <th>Longitude</th>\n",
       "    </tr>\n",
       "  </thead>\n",
       "  <tbody>\n",
       "    <tr>\n",
       "      <th>0</th>\n",
       "      <td>2</td>\n",
       "      <td>2424 Baldwin Blvd</td>\n",
       "      <td>Corpus Christi</td>\n",
       "      <td>Texas</td>\n",
       "      <td>78405</td>\n",
       "      <td>27.773730</td>\n",
       "      <td>-97.419723</td>\n",
       "    </tr>\n",
       "    <tr>\n",
       "      <th>1</th>\n",
       "      <td>3</td>\n",
       "      <td>4510 Leopard St</td>\n",
       "      <td>Corpus Christi</td>\n",
       "      <td>Texas</td>\n",
       "      <td>78408</td>\n",
       "      <td>27.797491</td>\n",
       "      <td>-97.443607</td>\n",
       "    </tr>\n",
       "    <tr>\n",
       "      <th>2</th>\n",
       "      <td>4</td>\n",
       "      <td>510 S 14th St</td>\n",
       "      <td>Kingsville</td>\n",
       "      <td>Texas</td>\n",
       "      <td>78363</td>\n",
       "      <td>27.512451</td>\n",
       "      <td>-97.855687</td>\n",
       "    </tr>\n",
       "    <tr>\n",
       "      <th>3</th>\n",
       "      <td>5</td>\n",
       "      <td>1242 E Main St.</td>\n",
       "      <td>Alice</td>\n",
       "      <td>Texas</td>\n",
       "      <td>78332</td>\n",
       "      <td>27.753811</td>\n",
       "      <td>-98.059668</td>\n",
       "    </tr>\n",
       "    <tr>\n",
       "      <th>4</th>\n",
       "      <td>7</td>\n",
       "      <td>1412 E Jackson Ave</td>\n",
       "      <td>McAllen</td>\n",
       "      <td>Texas</td>\n",
       "      <td>78503</td>\n",
       "      <td>26.190452</td>\n",
       "      <td>-98.206795</td>\n",
       "    </tr>\n",
       "  </tbody>\n",
       "</table>\n",
       "</div>"
      ],
      "text/plain": [
       "   Store ID             Address            City  State  Zip Code   Latitude  \\\n",
       "0         2   2424 Baldwin Blvd  Corpus Christi  Texas     78405  27.773730   \n",
       "1         3     4510 Leopard St  Corpus Christi  Texas     78408  27.797491   \n",
       "2         4       510 S 14th St      Kingsville  Texas     78363  27.512451   \n",
       "3         5     1242 E Main St.           Alice  Texas     78332  27.753811   \n",
       "4         7  1412 E Jackson Ave         McAllen  Texas     78503  26.190452   \n",
       "\n",
       "   Longitude  \n",
       "0 -97.419723  \n",
       "1 -97.443607  \n",
       "2 -97.855687  \n",
       "3 -98.059668  \n",
       "4 -98.206795  "
      ]
     },
     "execution_count": 143,
     "metadata": {},
     "output_type": "execute_result"
    }
   ],
   "source": [
    "WhataburgerData.head()"
   ]
  },
  {
   "cell_type": "code",
   "execution_count": 144,
   "metadata": {},
   "outputs": [
    {
     "name": "stdout",
     "output_type": "stream",
     "text": [
      "The distance between UTSA Main campus: (29.5827351,-98.621094) and the Alamo: (29.4259671,-98.4883306) is 13.456003911443787 miles.\n"
     ]
    }
   ],
   "source": [
    "def haversine(lat1, long1, lat2, long2):\n",
    "\t\n",
    "\tradiusOfEarthInMiles = 3958.8\n",
    "\t\n",
    "\tlat1Radians = math.radians(lat1)\n",
    "\tlong1Radians = math.radians(long1)\n",
    "\tlat2Radians = math.radians(lat2)\n",
    "\tlong2Radians = math.radians(long2)\n",
    "\t\n",
    "\ta = pow(math.sin((lat2Radians-lat1Radians)/2), 2) + math.cos(lat1Radians)*math.cos(lat2Radians)*pow(math.sin((long2Radians-long1Radians)/2), 2)\n",
    "\tc = 2*math.atan2(math.sqrt(a), math.sqrt(1-a))\n",
    "\t\n",
    "\treturn radiusOfEarthInMiles*c\n",
    "\t\n",
    "\t\n",
    "lat1 = 29.5827351\n",
    "long1 = -98.621094\n",
    "\n",
    "lat2 = 29.4259671\n",
    "long2 = -98.4883306\n",
    "\n",
    "dist = haversine(lat1,long1,lat2,long2)\n",
    "\n",
    "print(\"The distance between UTSA Main campus: (\"+str(lat1)+\",\"+str(long1)+\") and the Alamo: (\"+str(lat2)+\",\"+str(long2)+\") is \" + str(dist) + \" miles.\")"
   ]
  },
  {
   "cell_type": "code",
   "execution_count": 145,
   "metadata": {},
   "outputs": [],
   "source": [
    "def partition(x, pivot = 0):\n",
    "    i = 0\n",
    "    if pivot != 0: x[0], x[pivot] = x[pivot], x[0]\n",
    "    for j in range(len(x)-1):\n",
    "        if x[j+1] < x[0]:\n",
    "            x[j+1], x[i+1] = x[i+1], x[j+1]\n",
    "            i += 1\n",
    "    x[0],x[i] = x[i],x[0]\n",
    "    return x,i"
   ]
  },
  {
   "cell_type": "code",
   "execution_count": 146,
   "metadata": {},
   "outputs": [],
   "source": [
    "def RandSelect(x,k):\n",
    "    if len(x) == 1:\n",
    "        return x[0]\n",
    "    else:\n",
    "        xpartition = partition(x, randrange(len(x)))\n",
    "        x = xpartition[0]\n",
    "        j = xpartition[1]\n",
    "        if j == k:\n",
    "            return x[j]\n",
    "        elif j > k:\n",
    "            return RandSelect(x[:j],k)\n",
    "        else:\n",
    "            k = k - j - 1\n",
    "            return RandSelect(x[j+1:],k)"
   ]
  },
  {
   "cell_type": "code",
   "execution_count": 147,
   "metadata": {},
   "outputs": [
    {
     "name": "stdout",
     "output_type": "stream",
     "text": [
      "The 5th closest Whataburger to UTSA Main Campus is 100 State Park Road\n"
     ]
    }
   ],
   "source": [
    "Whataburger = []\n",
    "for i in range(len(WhataburgerData)):\n",
    "    Whataburger.append(WhataburgerData.iloc[i,1])\n",
    "\n",
    "print(\"The 5th closest Whataburger to UTSA Main Campus is \" + str(RandSelect(Whataburger, 4)))"
   ]
  },
  {
   "cell_type": "code",
   "execution_count": 148,
   "metadata": {},
   "outputs": [
    {
     "name": "stdout",
     "output_type": "stream",
     "text": [
      "The distance between UTSA Main campus: (29.5827351,-98.621094) and the Alamo: (29.4259671,-98.4883306) is 13.456003911443787 miles.\n",
      "The distance between UTSA Main campus: (29.5827351,-98.621094) and the Alamo: (29.4259671,-98.4883306) is 13.456003911443787 miles.\n",
      "The distance between UTSA Main campus: (29.5827351,-98.621094) and the Alamo: (29.4259671,-98.4883306) is 13.456003911443787 miles.\n",
      "The distance between UTSA Main campus: (29.5827351,-98.621094) and the Alamo: (29.4259671,-98.4883306) is 13.456003911443787 miles.\n",
      "The distance between UTSA Main campus: (29.5827351,-98.621094) and the Alamo: (29.4259671,-98.4883306) is 13.456003911443787 miles.\n",
      "The distance between UTSA Main campus: (29.5827351,-98.621094) and the Alamo: (29.4259671,-98.4883306) is 13.456003911443787 miles.\n",
      "The distance between UTSA Main campus: (29.5827351,-98.621094) and the Alamo: (29.4259671,-98.4883306) is 13.456003911443787 miles.\n",
      "The distance between UTSA Main campus: (29.5827351,-98.621094) and the Alamo: (29.4259671,-98.4883306) is 13.456003911443787 miles.\n",
      "The distance between UTSA Main campus: (29.5827351,-98.621094) and the Alamo: (29.4259671,-98.4883306) is 13.456003911443787 miles.\n",
      "The distance between UTSA Main campus: (29.5827351,-98.621094) and the Alamo: (29.4259671,-98.4883306) is 13.456003911443787 miles.\n",
      "The distance between UTSA Main campus: (29.5827351,-98.621094) and the Alamo: (29.4259671,-98.4883306) is 13.456003911443787 miles.\n",
      "The distance between UTSA Main campus: (29.5827351,-98.621094) and the Alamo: (29.4259671,-98.4883306) is 13.456003911443787 miles.\n",
      "The distance between UTSA Main campus: (29.5827351,-98.621094) and the Alamo: (29.4259671,-98.4883306) is 13.456003911443787 miles.\n",
      "The distance between UTSA Main campus: (29.5827351,-98.621094) and the Alamo: (29.4259671,-98.4883306) is 13.456003911443787 miles.\n",
      "The distance between UTSA Main campus: (29.5827351,-98.621094) and the Alamo: (29.4259671,-98.4883306) is 13.456003911443787 miles.\n",
      "The distance between UTSA Main campus: (29.5827351,-98.621094) and the Alamo: (29.4259671,-98.4883306) is 13.456003911443787 miles.\n",
      "The distance between UTSA Main campus: (29.5827351,-98.621094) and the Alamo: (29.4259671,-98.4883306) is 13.456003911443787 miles.\n",
      "The distance between UTSA Main campus: (29.5827351,-98.621094) and the Alamo: (29.4259671,-98.4883306) is 13.456003911443787 miles.\n",
      "The distance between UTSA Main campus: (29.5827351,-98.621094) and the Alamo: (29.4259671,-98.4883306) is 13.456003911443787 miles.\n",
      "The distance between UTSA Main campus: (29.5827351,-98.621094) and the Alamo: (29.4259671,-98.4883306) is 13.456003911443787 miles.\n",
      "The distance between UTSA Main campus: (29.5827351,-98.621094) and the Alamo: (29.4259671,-98.4883306) is 13.456003911443787 miles.\n",
      "The distance between UTSA Main campus: (29.5827351,-98.621094) and the Alamo: (29.4259671,-98.4883306) is 13.456003911443787 miles.\n",
      "The distance between UTSA Main campus: (29.5827351,-98.621094) and the Alamo: (29.4259671,-98.4883306) is 13.456003911443787 miles.\n",
      "The distance between UTSA Main campus: (29.5827351,-98.621094) and the Alamo: (29.4259671,-98.4883306) is 13.456003911443787 miles.\n",
      "The distance between UTSA Main campus: (29.5827351,-98.621094) and the Alamo: (29.4259671,-98.4883306) is 13.456003911443787 miles.\n",
      "The distance between UTSA Main campus: (29.5827351,-98.621094) and the Alamo: (29.4259671,-98.4883306) is 13.456003911443787 miles.\n",
      "The distance between UTSA Main campus: (29.5827351,-98.621094) and the Alamo: (29.4259671,-98.4883306) is 13.456003911443787 miles.\n",
      "The distance between UTSA Main campus: (29.5827351,-98.621094) and the Alamo: (29.4259671,-98.4883306) is 13.456003911443787 miles.\n",
      "The distance between UTSA Main campus: (29.5827351,-98.621094) and the Alamo: (29.4259671,-98.4883306) is 13.456003911443787 miles.\n",
      "The distance between UTSA Main campus: (29.5827351,-98.621094) and the Alamo: (29.4259671,-98.4883306) is 13.456003911443787 miles.\n"
     ]
    }
   ],
   "source": [
    "for i in range(30):\n",
    "    print(\"The distance between UTSA Main campus: (\"+str(lat1)+\",\"+str(long1)+\") and the Alamo: (\"+str(lat2)+\",\"+str(long2)+\") is \" + str(dist) + \" miles.\")\n"
   ]
  },
  {
   "cell_type": "code",
   "execution_count": 159,
   "metadata": {},
   "outputs": [
    {
     "name": "stdout",
     "output_type": "stream",
     "text": [
      "2424 Baldwin Blvd\n",
      "4510 Leopard St\n",
      "510 S 14th St\n",
      "1242 E Main St.\n",
      "1412 E Jackson Ave\n",
      "3220 Gollihar Rd\n",
      "509 E Rio Grande St\n",
      "2018 S Staples St\n",
      "2737 W Wheeler Ave\n",
      "5900 San Pedro Ave\n",
      "5480 Pensacola Blvd\n",
      "2916 West Expressway 83\n",
      "3716 Andrews Hwy\n",
      "1313 N New Warrington Rd\n",
      "1520 E Business 83\n",
      "1900 E 8th St\n",
      "4126 S Staples St\n",
      "1739 South Beckham\n",
      "1710 N Saint Marys St\n",
      "2301 Spencer Hwy\n",
      "105 TX-63 Spur\n",
      "2411 Palmer Hwy\n",
      "1522 E Harrison Ave\n",
      "417 E Gregory St\n",
      "902 S Texas Ave\n",
      "2118 Guadalupe St\n",
      "2010 Victory Dr\n",
      "23 Miracle Strip Pkwy SW\n",
      "2107 S US Highway 281\n",
      "9500 Montana Ave\n"
     ]
    }
   ],
   "source": [
    "for store in WhataburgerData.iloc[0:30,1]:\n",
    "    if store != RandSelect(Whataburger, 29):\n",
    "        print(store)"
   ]
  },
  {
   "cell_type": "code",
   "execution_count": null,
   "metadata": {},
   "outputs": [],
   "source": []
  }
 ],
 "metadata": {
  "kernelspec": {
   "display_name": "base",
   "language": "python",
   "name": "python3"
  },
  "language_info": {
   "codemirror_mode": {
    "name": "ipython",
    "version": 3
   },
   "file_extension": ".py",
   "mimetype": "text/x-python",
   "name": "python",
   "nbconvert_exporter": "python",
   "pygments_lexer": "ipython3",
   "version": "3.10.9"
  },
  "orig_nbformat": 4
 },
 "nbformat": 4,
 "nbformat_minor": 2
}
